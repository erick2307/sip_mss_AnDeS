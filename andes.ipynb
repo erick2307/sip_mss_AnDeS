{
 "cells": [
  {
   "cell_type": "code",
   "execution_count": 1,
   "metadata": {},
   "outputs": [],
   "source": [
    "import numpy as np\n",
    "import stumpy\n",
    "from datetime import datetime, timedelta\n",
    "import matplotlib.pyplot as plt\n",
    "from icecream import ic\n",
    "from tqdm import tqdm\n",
    "import arrow\n",
    "from dateutil import tz\n",
    "import joblib\n",
    "\n",
    "timezone = tz.gettz(\"Asia/Tokyo\")"
   ]
  },
  {
   "cell_type": "code",
   "execution_count": 33,
   "metadata": {},
   "outputs": [],
   "source": [
    "def read_database(start=2016, stop=2024):\n",
    "    db = {}\n",
    "    for year in tqdm(np.arange(start, stop + 1, 1), desc=\"Reading database\"):\n",
    "        y = np.load(f\"data/ntt_mss_{year}.npy\")\n",
    "        mids = np.load(f\"data/ntt_mss_{year}_areas.npy\")\n",
    "        db[year] = (y, mids)\n",
    "    return db"
   ]
  },
  {
   "cell_type": "code",
   "execution_count": 34,
   "metadata": {},
   "outputs": [],
   "source": [
    "def join_database_of_meshcode(db, meshcode):\n",
    "    for key in db.keys():\n",
    "        meshids = db[key][1]\n",
    "        try:\n",
    "            pos = np.where(meshids == meshcode)[0].item()\n",
    "        except:\n",
    "            print(f\"Meshcode {meshcode} not found in {key}\")\n",
    "            return None\n",
    "        if key == 2016:\n",
    "            data = db[key][0][:,pos]\n",
    "        else:\n",
    "            data = np.concatenate((data, db[key][0][:,pos]), axis=0)\n",
    "    return data"
   ]
  },
  {
   "cell_type": "code",
   "execution_count": 35,
   "metadata": {},
   "outputs": [],
   "source": [
    "def join_database_of_meshcode_with_nan(db, meshcode):\n",
    "    for key in db.keys():\n",
    "        meshids = db[key][1]\n",
    "        try:\n",
    "            pos = np.where(meshids == meshcode)[0].item()\n",
    "        except:\n",
    "            print(f\"Meshcode {meshcode} not found in {key}\")\n",
    "            return None\n",
    "        if key == 2016:\n",
    "            data = db[key][0][:,pos]\n",
    "        else:\n",
    "            data = np.concatenate((data, db[key][0][:,pos]), axis=0)\n",
    "    # change -1 to 0\n",
    "    data = np.where(data == -1, 0, data)\n",
    "    return data"
   ]
  },
  {
   "cell_type": "code",
   "execution_count": 36,
   "metadata": {},
   "outputs": [],
   "source": [
    "def set_vars(cur):\n",
    "    target_year = cur.year\n",
    "    target_month = cur.month\n",
    "    target_day = cur.day\n",
    "    target_hour = cur.hour\n",
    "    return target_year, target_month, target_day, target_hour"
   ]
  },
  {
   "cell_type": "code",
   "execution_count": 37,
   "metadata": {},
   "outputs": [],
   "source": [
    "def get_date_one_month_ago(target_year, target_month, target_day, target_hour):\n",
    "    to_date = arrow.get(target_year, target_month, target_day, target_hour).replace(tzinfo=timezone)\n",
    "    last_month = to_date.shift(months=-1) #<= length of history data to start streaming\n",
    "    return last_month.datetime"
   ]
  },
  {
   "cell_type": "code",
   "execution_count": 38,
   "metadata": {},
   "outputs": [],
   "source": [
    "def end_of_year_bool(year1,year2):\n",
    "    if year1 != year2:\n",
    "        return True\n",
    "    else:\n",
    "        return False"
   ]
  },
  {
   "cell_type": "code",
   "execution_count": 39,
   "metadata": {},
   "outputs": [],
   "source": [
    "def get_hours(start_year, start_month, start_day, start_hour, stop_year, stop_month, stop_day, stop_hour):\n",
    "    start = datetime(start_year, start_month, start_day, start_hour, 0, 0, 0, tzinfo=timezone)\n",
    "    stop = datetime(stop_year, stop_month, stop_day, stop_hour, 0, 0, 0, tzinfo=timezone)\n",
    "    delta = stop - start\n",
    "    return delta.days * 24 + delta.seconds // 3600\n",
    "\n",
    "\n",
    "def get_dateindex(dt, num_days):\n",
    "    index = sum(num_days[:dt.year-2016]) + get_hours(dt.year,1,1,0,dt.year,dt.month,dt.day,dt.hour)\n",
    "    return index\n",
    "\n",
    "def get_date_from_index(index, num_days):\n",
    "    year = 2016\n",
    "    while index >= num_days[year - 2016]:\n",
    "        index -= num_days[year - 2016]\n",
    "        year += 1\n",
    "    month = 1\n",
    "    while index >= get_hours(year, month, 1, 0, year, month + 1, 1, 0):\n",
    "        index -= get_hours(year, month, 1, 0, year, month + 1, 1, 0)\n",
    "        month += 1\n",
    "    day = index // 24 + 1\n",
    "    hour = index % 24\n",
    "    return datetime(year, month, day, hour, tzinfo=timezone)\n",
    "\n",
    "\n",
    "def get_history_data(data, num_days, cur, last_month, eoy_bool, alpha=0):\n",
    "    if eoy_bool:\n",
    "        alpha = 1\n",
    "    for i, year in enumerate(np.arange(2016, last_month.year+1)):\n",
    "        if cur.month == 2 and cur.day == 29 and year % 4 != 0: #<== added to handle Feb 29\n",
    "            continue            \n",
    "        start_index = get_dateindex(datetime(year,last_month.month,last_month.day,last_month.hour,0,0,0,timezone), num_days)\n",
    "        stop_index = get_dateindex(datetime(year+alpha,cur.month,cur.day,cur.hour,0,0,0,timezone), num_days)\n",
    "        if i == 0:    \n",
    "            history_data = data[start_index:stop_index]\n",
    "        else:\n",
    "            history_data = np.concatenate((history_data, data[start_index:stop_index]), axis=0)\n",
    "    return history_data[:-1]"
   ]
  },
  {
   "cell_type": "code",
   "execution_count": 40,
   "metadata": {},
   "outputs": [],
   "source": [
    "def andes(data, num_days, cur, stream_point, meshcode):    \n",
    "    target_year, target_month, target_day, target_hour = set_vars(cur)\n",
    "    last_month = get_date_one_month_ago(target_year, target_month, target_day, target_hour)\n",
    "    eoy_bool = end_of_year_bool(target_year, last_month.year)\n",
    "    history_data = get_history_data(data, num_days, cur, last_month, eoy_bool)\n",
    "    # convert data to float64 and replace -1 with np.nan\n",
    "    history_data = np.where(history_data == -1, np.nan, history_data).astype(np.float64)\n",
    "    stream_point = np.where(stream_point == -1, np.nan, stream_point).astype(np.float64)\n",
    "    # calculate the left matrix profile\n",
    "    T = history_data\n",
    "    m = 3\n",
    "    stream = stumpy.stumpi(T, m, normalize=False, egress=False)\n",
    "    # update stream with new data\n",
    "    stream.update(stream_point)\n",
    "    # calculate the left MP\n",
    "    mp = stream._left_P[m:]\n",
    "    # filter initial 'inf' values\n",
    "    mpf = mp[np.isfinite(mp)]\n",
    "    # calculate std of the left MP ==> Condition for anomaly detection\n",
    "    return T, mpf, stream._left_P[-1] > (mpf.mean() + 3 * mpf.std())"
   ]
  },
  {
   "cell_type": "markdown",
   "metadata": {},
   "source": [
    "## Load Database"
   ]
  },
  {
   "cell_type": "code",
   "execution_count": 10,
   "metadata": {},
   "outputs": [],
   "source": [
    "## Change this to Code Cell the first time you run the code \n",
    "### Runtime: 2min 30s\n",
    "### Load the db dictionary from disk (use this in future sessions for rapid loading)\n",
    "db = joblib.load('/Users/erick/Documents/GitHub/GPT_forecasting/db_2016_2024.joblib')"
   ]
  },
  {
   "cell_type": "markdown",
   "metadata": {},
   "source": [
    "### YOU MAY RUN THIS ONCE TO LOAD THE DATABASE\n",
    "db = read_database(start=2016, stop=2024)"
   ]
  },
  {
   "cell_type": "markdown",
   "metadata": {},
   "source": [
    "# RUN FROM HERE"
   ]
  },
  {
   "cell_type": "code",
   "execution_count": 41,
   "metadata": {},
   "outputs": [],
   "source": [
    "# INPUT CASES\n",
    "# event_dt = datetime(2024,2,15,10,0,0,0,timezone) # Random non populated area\n",
    "# meshcode = 574026822 #533937511 #DisneySea #574036064 #(Irides) #574026822 #(Moniwadai)\n",
    "# event = 'Random Point'\n",
    "\n",
    "# event_dt = datetime(2024,1,1,16,0,0,0,timezone) # Noto EQ @ Suzu\n",
    "# meshcode = 563712214\n",
    "# event = 'Noto EQ (Suzu)'\n",
    "\n",
    "# event_dt = datetime(2018,7,7,1,0,0,0,timezone) # Kurashiki Flood\n",
    "# meshcode = 513375542\n",
    "# event = 'Kurashiki Flood'\n",
    "\n",
    "event_dt = datetime(2022,3,16,23,0,0,0,timezone) # Fukushima EQ\n",
    "meshcode = 574007523\n",
    "meshcodes = [ 574007614, 574007623, 574007624, 574007633, 574007634,\n",
    "            574007612, 574007621, 574007622, 574007631, 574007632,\n",
    "            574007514, 574007523, 574007524, 574007533, 574007534,\n",
    "            574007512, 574007521, 574007522, 574007531, 574007532,\n",
    "            574007414, 574007423, 574007424, 574007433, 574007434,\n",
    "            574007412, 574007421, 574007422, 574007431, 574007432,\n",
    "            574007314, 574007323, 574007324, 574007333, 574007334 ]\n",
    "meshcodes = [ 574007523, 574007524, \n",
    "            574007521, 574007522 ]\n",
    "# original in tests: 574007523\n",
    "event = 'Fukushima EQ'\n",
    "\n",
    "# event_dt = datetime(2019,10,12,16,0,0,0,timezone) # Koriyama Flood\n",
    "# meshcode = 564003523\n",
    "# event = 'Koriyama Flood'\n",
    "\n",
    "# event_dt = datetime(2024,7,8,0,0,0,0,timezone) # Wakayama Heavy Rain (Wakayama Sta., 513521831)\n",
    "# meshcode = 513521831 \n",
    "# event = 'Wakayama Heavy Rain'\n",
    "\n",
    "# event_dt = datetime(2024,1,1,16,0,0,0,timezone) # Noto EQ @ Wajima\n",
    "# meshcode = 563607723 #563607621 #563607721\n",
    "# event = 'Noto EQ (Wajima)'\n",
    "\n"
   ]
  },
  {
   "cell_type": "code",
   "execution_count": 42,
   "metadata": {},
   "outputs": [],
   "source": [
    "# THESE ARE NECESSARY BY MESHCODE (OFFLINE)\n",
    "# get all years data together for the target meshcode\n",
    "merge = False # if True, merge all meshcodes data into one np.array, if False, get only one meshcode data\n",
    "if not merge:\n",
    "    data = join_database_of_meshcode(db, meshcode)\n",
    "    # ALWAYS NEEDED ===================================================================\n",
    "    title = f\"Meshcode: {meshcode}, Date: {event_dt.strftime('%Y-%m-%d %H:%M')}, {event}\"\n",
    "    filename = f\"andes_{event.replace(' ','')}_{meshcode}_{event_dt.strftime('%Y%m%d%H%M')}\"\n",
    "else:\n",
    "    #for each meschode from meshcodes list get the data, change -1 to np.nan and sum all np.arrays into one np.array\n",
    "    data = np.sum([join_database_of_meshcode_with_nan(db, mc) for mc in meshcodes], axis=0)\n",
    "    # ALWAYS NEEDED ===================================================================\n",
    "    title = f\"Merged, Date: {event_dt.strftime('%Y-%m-%d %H:%M')}, {event}\"\n",
    "    filename = f\"andes_{event.replace(' ','')}_merged_{event_dt.strftime('%Y%m%d%H%M')}\"\n",
    "    data = np.where(data == -1, np.nan, data).astype(np.float64)\n",
    "# create a list with shape of database for each year, number of hours per year\n",
    "num_days = [db[key][0].shape[0] for key in db.keys()]"
   ]
  },
  {
   "cell_type": "markdown",
   "metadata": {},
   "source": [
    "### Algorithm 1 - One Point data"
   ]
  },
  {
   "cell_type": "code",
   "execution_count": 43,
   "metadata": {},
   "outputs": [
    {
     "data": {
      "text/plain": [
       "(array([173., 117., 150., ..., 142., 188., 243.]),\n",
       " array([ 91.87491497, 121.33836986,  56.36488268, ...,   6.78232998,\n",
       "          6.40312424,   7.87400787]),\n",
       " np.False_)"
      ]
     },
     "execution_count": 43,
     "metadata": {},
     "output_type": "execute_result"
    }
   ],
   "source": [
    "# THIS IS SUPPOSED TO COME ONLINE - record at current time - here we take it from the database (ONLINE)\n",
    "cur_index = get_dateindex(event_dt, num_days)\n",
    "stream_point = data[cur_index]\n",
    "andes(data, num_days, event_dt, stream_point, meshcode)"
   ]
  },
  {
   "cell_type": "markdown",
   "metadata": {},
   "source": [
    "### Algorithm 2 - Multiple point data"
   ]
  },
  {
   "cell_type": "code",
   "execution_count": 44,
   "metadata": {},
   "outputs": [
    {
     "name": "stderr",
     "output_type": "stream",
     "text": [
      "ic| date: datetime.datetime(2022, 3, 17, 1, 0, tzinfo=tzfile('/usr/share/zoneinfo/Asia/Tokyo'))\n",
      "ic| date: datetime.datetime(2022, 3, 17, 2, 0, tzinfo=tzfile('/usr/share/zoneinfo/Asia/Tokyo'))\n",
      "ic| date: datetime.datetime(2022, 3, 26, 7, 0, tzinfo=tzfile('/usr/share/zoneinfo/Asia/Tokyo'))\n"
     ]
    }
   ],
   "source": [
    "# TEST CASE FOR MULTIPLE DAYS\n",
    "# create a list of dates for the last xhours\n",
    "xhours = 14 * 24\n",
    "dates_before = [event_dt - timedelta(hours=i) for i in range(xhours,0,-1)]\n",
    "dates_after = [event_dt + timedelta(hours=i) for i in range(xhours)]\n",
    "# dates = dates_before + dates_after # wrong?:dates start with dates already in T\n",
    "dates = dates_after\n",
    "img = []\n",
    "for date in dates:\n",
    "    # this is input data\n",
    "    cur_index = get_dateindex(date, num_days)\n",
    "    stream_point = data[cur_index]\n",
    "    # online anomaly detection\n",
    "    T, mpf, anomaly = andes(data, num_days, date, stream_point, meshcode)\n",
    "    img.append(anomaly)\n",
    "    if anomaly:\n",
    "        ic(date)"
   ]
  },
  {
   "cell_type": "code",
   "execution_count": 45,
   "metadata": {},
   "outputs": [],
   "source": [
    "arr = np.array(img).astype(int)\n",
    "# add to arr cur.hours points of np.nan at the beginning\n",
    "start_pad = np.full(dates[0].hour, np.nan)\n",
    "arr = np.concatenate((start_pad, arr))\n",
    "end_pad = np.full((23 - dates[-1].hour), np.nan)\n",
    "arr = np.concatenate((arr,end_pad))\n",
    "# add the current point to the array\n",
    "# arr[len(start_pad)+len(dates_before)] = 2 # not good\n",
    "arr[len(start_pad)] = 2"
   ]
  },
  {
   "cell_type": "code",
   "execution_count": 46,
   "metadata": {},
   "outputs": [
    {
     "data": {
      "image/png": "[encoded data removed]",
      "text/plain": [
       "<Figure size 1000x500 with 1 Axes>"
      ]
     },
     "metadata": {},
     "output_type": "display_data"
    }
   ],
   "source": [
    "import matplotlib.pyplot as plt\n",
    "\n",
    "plt.figure(figsize=(10, 5))\n",
    "plt.imshow(arr.reshape(-1,24), cmap='CMRmap_r', aspect=0.7)\n",
    "days = set([dates[i].date() for i in range(len(dates))])\n",
    "# set up y ticks labels\n",
    "plt.yticks(np.arange(0,len(days)), [f\"{i}\" for i in sorted(days)])\n",
    "plt.xticks(np.arange(0,24), [f\"{i:02d}\" for i in np.arange(0,24)], rotation=45);\n",
    "# create vertical lines at 0.5 of each hour\n",
    "for i in range(1,24):\n",
    "    plt.axvline(i-0.5, color='black', linewidth=0.3)\n",
    "# create horizontal lines at 0.5 of each hour\n",
    "for i in range(1,len(days)):\n",
    "    plt.hlines(i-0.5, xmin=-0.5,xmax=23.5,color='black', linewidth=0.3)\n",
    "plt.xlabel(\"Hour Frame of the day (e.g. 08 means 08:00 to 08:59)\")\n",
    "plt.title(title)\n",
    "plt.savefig(f\"{filename}.png\", dpi=300)"
   ]
  },
  {
   "cell_type": "code",
   "execution_count": 47,
   "metadata": {},
   "outputs": [
    {
     "data": {
      "application/vnd.plotly.v1+json": {
       "config": {
        "plotlyServerURL": "https://plot.ly"
       },
       "data": [
        {
         "mode": "lines",
         "name": "Data",
         "type": "scatter",
         "y": {
          "bdata": "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",
          "dtype": "f8"
         }
        }
       ],
       "layout": {
        "hovermode": "x unified",
        "template": {
         "data": {
          "bar": [
           {
            "error_x": {
             "color": "#2a3f5f"
            },
            "error_y": {
             "color": "#2a3f5f"
            },
            "marker": {
             "line": {
              "color": "#E5ECF6",
              "width": 0.5
             },
             "pattern": {
              "fillmode": "overlay",
              "size": 10,
              "solidity": 0.2
             }
            },
            "type": "bar"
           }
          ],
          "barpolar": [
           {
            "marker": {
             "line": {
              "color": "#E5ECF6",
              "width": 0.5
             },
             "pattern": {
              "fillmode": "overlay",
              "size": 10,
              "solidity": 0.2
             }
            },
            "type": "barpolar"
           }
          ],
          "carpet": [
           {
            "aaxis": {
             "endlinecolor": "#2a3f5f",
             "gridcolor": "white",
             "linecolor": "white",
             "minorgridcolor": "white",
             "startlinecolor": "#2a3f5f"
            },
            "baxis": {
             "endlinecolor": "#2a3f5f",
             "gridcolor": "white",
             "linecolor": "white",
             "minorgridcolor": "white",
             "startlinecolor": "#2a3f5f"
            },
            "type": "carpet"
           }
          ],
          "choropleth": [
           {
            "colorbar": {
             "outlinewidth": 0,
             "ticks": ""
            },
            "type": "choropleth"
           }
          ],
          "contour": [
           {
            "colorbar": {
             "outlinewidth": 0,
             "ticks": ""
            },
            "colorscale": [
             [
              0,
              "#0d0887"
             ],
             [
              0.1111111111111111,
              "#46039f"
             ],
             [
              0.2222222222222222,
              "#7201a8"
             ],
             [
              0.3333333333333333,
              "#9c179e"
             ],
             [
              0.4444444444444444,
              "#bd3786"
             ],
             [
              0.5555555555555556,
              "#d8576b"
             ],
             [
              0.6666666666666666,
              "#ed7953"
             ],
             [
              0.7777777777777778,
              "#fb9f3a"
             ],
             [
              0.8888888888888888,
              "#fdca26"
             ],
             [
              1,
              "#f0f921"
             ]
            ],
            "type": "contour"
           }
          ],
          "contourcarpet": [
           {
            "colorbar": {
             "outlinewidth": 0,
             "ticks": ""
            },
            "type": "contourcarpet"
           }
          ],
          "heatmap": [
           {
            "colorbar": {
             "outlinewidth": 0,
             "ticks": ""
            },
            "colorscale": [
             [
              0,
              "#0d0887"
             ],
             [
              0.1111111111111111,
              "#46039f"
             ],
             [
              0.2222222222222222,
              "#7201a8"
             ],
             [
              0.3333333333333333,
              "#9c179e"
             ],
             [
              0.4444444444444444,
              "#bd3786"
             ],
             [
              0.5555555555555556,
              "#d8576b"
             ],
             [
              0.6666666666666666,
              "#ed7953"
             ],
             [
              0.7777777777777778,
              "#fb9f3a"
             ],
             [
              0.8888888888888888,
              "#fdca26"
             ],
             [
              1,
              "#f0f921"
             ]
            ],
            "type": "heatmap"
           }
          ],
          "histogram": [
           {
            "marker": {
             "pattern": {
              "fillmode": "overlay",
              "size": 10,
              "solidity": 0.2
             }
            },
            "type": "histogram"
           }
          ],
          "histogram2d": [
           {
            "colorbar": {
             "outlinewidth": 0,
             "ticks": ""
            },
            "colorscale": [
             [
              0,
              "#0d0887"
             ],
             [
              0.1111111111111111,
              "#46039f"
             ],
             [
              0.2222222222222222,
              "#7201a8"
             ],
             [
              0.3333333333333333,
              "#9c179e"
             ],
             [
              0.4444444444444444,
              "#bd3786"
             ],
             [
              0.5555555555555556,
              "#d8576b"
             ],
             [
              0.6666666666666666,
              "#ed7953"
             ],
             [
              0.7777777777777778,
              "#fb9f3a"
             ],
             [
              0.8888888888888888,
              "#fdca26"
             ],
             [
              1,
              "#f0f921"
             ]
            ],
            "type": "histogram2d"
           }
          ],
          "histogram2dcontour": [
           {
            "colorbar": {
             "outlinewidth": 0,
             "ticks": ""
            },
            "colorscale": [
             [
              0,
              "#0d0887"
             ],
             [
              0.1111111111111111,
              "#46039f"
             ],
             [
              0.2222222222222222,
              "#7201a8"
             ],
             [
              0.3333333333333333,
              "#9c179e"
             ],
             [
              0.4444444444444444,
              "#bd3786"
             ],
             [
              0.5555555555555556,
              "#d8576b"
             ],
             [
              0.6666666666666666,
              "#ed7953"
             ],
             [
              0.7777777777777778,
              "#fb9f3a"
             ],
             [
              0.8888888888888888,
              "#fdca26"
             ],
             [
              1,
              "#f0f921"
             ]
            ],
            "type": "histogram2dcontour"
           }
          ],
          "mesh3d": [
           {
            "colorbar": {
             "outlinewidth": 0,
             "ticks": ""
            },
            "type": "mesh3d"
           }
          ],
          "parcoords": [
           {
            "line": {
             "colorbar": {
              "outlinewidth": 0,
              "ticks": ""
             }
            },
            "type": "parcoords"
           }
          ],
          "pie": [
           {
            "automargin": true,
            "type": "pie"
           }
          ],
          "scatter": [
           {
            "fillpattern": {
             "fillmode": "overlay",
             "size": 10,
             "solidity": 0.2
            },
            "type": "scatter"
           }
          ],
          "scatter3d": [
           {
            "line": {
             "colorbar": {
              "outlinewidth": 0,
              "ticks": ""
             }
            },
            "marker": {
             "colorbar": {
              "outlinewidth": 0,
              "ticks": ""
             }
            },
            "type": "scatter3d"
           }
          ],
          "scattercarpet": [
           {
            "marker": {
             "colorbar": {
              "outlinewidth": 0,
              "ticks": ""
             }
            },
            "type": "scattercarpet"
           }
          ],
          "scattergeo": [
           {
            "marker": {
             "colorbar": {
              "outlinewidth": 0,
              "ticks": ""
             }
            },
            "type": "scattergeo"
           }
          ],
          "scattergl": [
           {
            "marker": {
             "colorbar": {
              "outlinewidth": 0,
              "ticks": ""
             }
            },
            "type": "scattergl"
           }
          ],
          "scattermap": [
           {
            "marker": {
             "colorbar": {
              "outlinewidth": 0,
              "ticks": ""
             }
            },
            "type": "scattermap"
           }
          ],
          "scattermapbox": [
           {
            "marker": {
             "colorbar": {
              "outlinewidth": 0,
              "ticks": ""
             }
            },
            "type": "scattermapbox"
           }
          ],
          "scatterpolar": [
           {
            "marker": {
             "colorbar": {
              "outlinewidth": 0,
              "ticks": ""
             }
            },
            "type": "scatterpolar"
           }
          ],
          "scatterpolargl": [
           {
            "marker": {
             "colorbar": {
              "outlinewidth": 0,
              "ticks": ""
             }
            },
            "type": "scatterpolargl"
           }
          ],
          "scatterternary": [
           {
            "marker": {
             "colorbar": {
              "outlinewidth": 0,
              "ticks": ""
             }
            },
            "type": "scatterternary"
           }
          ],
          "surface": [
           {
            "colorbar": {
             "outlinewidth": 0,
             "ticks": ""
            },
            "colorscale": [
             [
              0,
              "#0d0887"
             ],
             [
              0.1111111111111111,
              "#46039f"
             ],
             [
              0.2222222222222222,
              "#7201a8"
             ],
             [
              0.3333333333333333,
              "#9c179e"
             ],
             [
              0.4444444444444444,
              "#bd3786"
             ],
             [
              0.5555555555555556,
              "#d8576b"
             ],
             [
              0.6666666666666666,
              "#ed7953"
             ],
             [
              0.7777777777777778,
              "#fb9f3a"
             ],
             [
              0.8888888888888888,
              "#fdca26"
             ],
             [
              1,
              "#f0f921"
             ]
            ],
            "type": "surface"
           }
          ],
          "table": [
           {
            "cells": {
             "fill": {
              "color": "#EBF0F8"
             },
             "line": {
              "color": "white"
             }
            },
            "header": {
             "fill": {
              "color": "#C8D4E3"
             },
             "line": {
              "color": "white"
             }
            },
            "type": "table"
           }
          ]
         },
         "layout": {
          "annotationdefaults": {
           "arrowcolor": "#2a3f5f",
           "arrowhead": 0,
           "arrowwidth": 1
          },
          "autotypenumbers": "strict",
          "coloraxis": {
           "colorbar": {
            "outlinewidth": 0,
            "ticks": ""
           }
          },
          "colorscale": {
           "diverging": [
            [
             0,
             "#8e0152"
            ],
            [
             0.1,
             "#c51b7d"
            ],
            [
             0.2,
             "#de77ae"
            ],
            [
             0.3,
             "#f1b6da"
            ],
            [
             0.4,
             "#fde0ef"
            ],
            [
             0.5,
             "#f7f7f7"
            ],
            [
             0.6,
             "#e6f5d0"
            ],
            [
             0.7,
             "#b8e186"
            ],
            [
             0.8,
             "#7fbc41"
            ],
            [
             0.9,
             "#4d9221"
            ],
            [
             1,
             "#276419"
            ]
           ],
           "sequential": [
            [
             0,
             "#0d0887"
            ],
            [
             0.1111111111111111,
             "#46039f"
            ],
            [
             0.2222222222222222,
             "#7201a8"
            ],
            [
             0.3333333333333333,
             "#9c179e"
            ],
            [
             0.4444444444444444,
             "#bd3786"
            ],
            [
             0.5555555555555556,
             "#d8576b"
            ],
            [
             0.6666666666666666,
             "#ed7953"
            ],
            [
             0.7777777777777778,
             "#fb9f3a"
            ],
            [
             0.8888888888888888,
             "#fdca26"
            ],
            [
             1,
             "#f0f921"
            ]
           ],
           "sequentialminus": [
            [
             0,
             "#0d0887"
            ],
            [
             0.1111111111111111,
             "#46039f"
            ],
            [
             0.2222222222222222,
             "#7201a8"
            ],
            [
             0.3333333333333333,
             "#9c179e"
            ],
            [
             0.4444444444444444,
             "#bd3786"
            ],
            [
             0.5555555555555556,
             "#d8576b"
            ],
            [
             0.6666666666666666,
             "#ed7953"
            ],
            [
             0.7777777777777778,
             "#fb9f3a"
            ],
            [
             0.8888888888888888,
             "#fdca26"
            ],
            [
             1,
             "#f0f921"
            ]
           ]
          },
          "colorway": [
           "#636efa",
           "#EF553B",
           "#00cc96",
           "#ab63fa",
           "#FFA15A",
           "#19d3f3",
           "#FF6692",
           "#B6E880",
           "#FF97FF",
           "#FECB52"
          ],
          "font": {
           "color": "#2a3f5f"
          },
          "geo": {
           "bgcolor": "white",
           "lakecolor": "white",
           "landcolor": "#E5ECF6",
           "showlakes": true,
           "showland": true,
           "subunitcolor": "white"
          },
          "hoverlabel": {
           "align": "left"
          },
          "hovermode": "closest",
          "mapbox": {
           "style": "light"
          },
          "paper_bgcolor": "white",
          "plot_bgcolor": "#E5ECF6",
          "polar": {
           "angularaxis": {
            "gridcolor": "white",
            "linecolor": "white",
            "ticks": ""
           },
           "bgcolor": "#E5ECF6",
           "radialaxis": {
            "gridcolor": "white",
            "linecolor": "white",
            "ticks": ""
           }
          },
          "scene": {
           "xaxis": {
            "backgroundcolor": "#E5ECF6",
            "gridcolor": "white",
            "gridwidth": 2,
            "linecolor": "white",
            "showbackground": true,
            "ticks": "",
            "zerolinecolor": "white"
           },
           "yaxis": {
            "backgroundcolor": "#E5ECF6",
            "gridcolor": "white",
            "gridwidth": 2,
            "linecolor": "white",
            "showbackground": true,
            "ticks": "",
            "zerolinecolor": "white"
           },
           "zaxis": {
            "backgroundcolor": "#E5ECF6",
            "gridcolor": "white",
            "gridwidth": 2,
            "linecolor": "white",
            "showbackground": true,
            "ticks": "",
            "zerolinecolor": "white"
           }
          },
          "shapedefaults": {
           "line": {
            "color": "#2a3f5f"
           }
          },
          "ternary": {
           "aaxis": {
            "gridcolor": "white",
            "linecolor": "white",
            "ticks": ""
           },
           "baxis": {
            "gridcolor": "white",
            "linecolor": "white",
            "ticks": ""
           },
           "bgcolor": "#E5ECF6",
           "caxis": {
            "gridcolor": "white",
            "linecolor": "white",
            "ticks": ""
           }
          },
          "title": {
           "x": 0.05
          },
          "xaxis": {
           "automargin": true,
           "gridcolor": "white",
           "linecolor": "white",
           "ticks": "",
           "title": {
            "standoff": 15
           },
           "zerolinecolor": "white",
           "zerolinewidth": 2
          },
          "yaxis": {
           "automargin": true,
           "gridcolor": "white",
           "linecolor": "white",
           "ticks": "",
           "title": {
            "standoff": 15
           },
           "zerolinecolor": "white",
           "zerolinewidth": 2
          }
         }
        },
        "title": {
         "text": "Meshcode: 574007523, Date: 2022-03-16 23:00, Fukushima EQ"
        },
        "xaxis": {
         "title": {
          "text": "Index"
         }
        },
        "yaxis": {
         "title": {
          "text": "Value"
         }
        }
       }
      }
     },
     "metadata": {},
     "output_type": "display_data"
    }
   ],
   "source": [
    "import plotly.graph_objs as go\n",
    "import plotly.io as pio\n",
    "\n",
    "fig = go.Figure()\n",
    "\n",
    "# Plot the data (replace -1 with nan for better visualization)\n",
    "plot_data = np.where(data == -1, np.nan, data)\n",
    "fig.add_trace(go.Scatter(y=mpf, mode='lines', name='Data'))\n",
    "\n",
    "# # Add vertical line for the current point\n",
    "# fig.add_vline(\n",
    "#     x=get_dateindex(event_dt, num_days),\n",
    "#     line=dict(color='red', dash='dash'),\n",
    "#     annotation_text='Current Point',\n",
    "#     annotation_position='top right'\n",
    "# )\n",
    "\n",
    "fig.update_layout(\n",
    "    title=title,\n",
    "    xaxis_title='Index',\n",
    "    yaxis_title='Value',\n",
    "    hovermode='x unified'\n",
    ")\n",
    "\n",
    "fig.show()"
   ]
  },
  {
   "cell_type": "code",
   "execution_count": 140,
   "metadata": {},
   "outputs": [
    {
     "data": {
      "text/plain": [
       "5083"
      ]
     },
     "execution_count": 140,
     "metadata": {},
     "output_type": "execute_result"
    }
   ],
   "source": [
    "mpf.shape[0]"
   ]
  },
  {
   "cell_type": "code",
   "execution_count": 134,
   "metadata": {},
   "outputs": [
    {
     "data": {
      "text/plain": [
       "334"
      ]
     },
     "execution_count": 134,
     "metadata": {},
     "output_type": "execute_result"
    }
   ],
   "source": [
    "T.shape[0], (2*29+5*28)*24+14*24-1\n",
    "mpf.shape[0]-(2*29+5*28)*24+3"
   ]
  },
  {
   "cell_type": "code",
   "execution_count": 148,
   "metadata": {},
   "outputs": [
    {
     "data": {
      "text/plain": [
       "4411"
      ]
     },
     "execution_count": 148,
     "metadata": {},
     "output_type": "execute_result"
    }
   ],
   "source": [
    "5083-2*336"
   ]
  },
  {
   "cell_type": "code",
   "execution_count": 150,
   "metadata": {},
   "outputs": [
    {
     "data": {
      "image/png": "[encoded data removed]",
      "text/plain": [
       "<Figure size 1000x500 with 1 Axes>"
      ]
     },
     "metadata": {},
     "output_type": "display_data"
    }
   ],
   "source": [
    "plt.figure(figsize=(10, 5))\n",
    "plt.plot(np.linspace(5083-334, 5083, 334), mpf[-334:], label='Left MP', color='blue', linewidth=1, zorder=1)\n",
    "plt.plot(np.linspace(0, 5083-334, mpf.shape[0]-334), mpf[:-334], label='History', color='gray', linewidth=0.5)\n",
    "plt.axhline(mpf.mean() + 3 * mpf.std(), color='black', linestyle='--', label='Threshold')\n",
    "plt.axvline(x=5083-334, color='red', linestyle='--', label='Event', linewidth=0.5, zorder=5)\n",
    "plt.ylim(0,140)\n",
    "plt.xlim(4411,5083)\n",
    "plt.legend()\n",
    "plt.savefig(f\"mpf.png\", dpi=300)"
   ]
  },
  {
   "cell_type": "code",
   "execution_count": null,
   "metadata": {},
   "outputs": [],
   "source": []
  },
  {
   "cell_type": "code",
   "execution_count": null,
   "metadata": {},
   "outputs": [],
   "source": []
  },
  {
   "cell_type": "code",
   "execution_count": null,
   "metadata": {},
   "outputs": [],
   "source": []
  },
  {
   "cell_type": "code",
   "execution_count": null,
   "metadata": {},
   "outputs": [],
   "source": []
  },
  {
   "cell_type": "code",
   "execution_count": 18,
   "metadata": {},
   "outputs": [],
   "source": [
    "import numpy as np\n",
    "\n",
    "#Read the number of images from a folder, then load all images and create a (n/2)x(n/2) grid of images\n",
    "def read_images_from_folder(folder):\n",
    "    import os\n",
    "    from PIL import Image\n",
    "    images = []\n",
    "    for filename in os.listdir(folder):\n",
    "        if filename.endswith('.png'):\n",
    "            img_path = os.path.join(folder, filename)\n",
    "            img = Image.open(img_path)\n",
    "            images.append(img)\n",
    "    return images\n",
    "\n",
    "def create_image_grid(images, grid_size):\n",
    "    import numpy as np\n",
    "    from PIL import Image\n",
    "\n",
    "    # Create a blank image with white background\n",
    "    grid_image = Image.new('RGB', (grid_size[0] * images[0].width, grid_size[1] * images[0].height), (255, 255, 255))\n",
    "\n",
    "    for i in range(grid_size[0]):\n",
    "        for j in range(grid_size[1]):\n",
    "            index = i * grid_size[1] + j\n",
    "            if index < len(images):\n",
    "                grid_image.paste(images[index], (i * images[0].width, j * images[0].height))\n",
    "\n",
    "    return grid_image\n",
    "\n",
    "def run():  \n",
    "    # Load images from the folder\n",
    "    images = read_images_from_folder('.')\n",
    "    # images.sort(key=lambda x: int(x.filename.split('_')[2]))\n",
    "    size = len(images)\n",
    "    if size == 0:\n",
    "        print(\"No images found in the folder.\")\n",
    "    elif size == 1:\n",
    "        print(\"Only one image found, saving it directly.\")\n",
    "        images[0].save('single_image.png')\n",
    "    elif size < 4:\n",
    "        print(f\"Only {size} images found, creating a grid of size {size}x{size}.\")\n",
    "        grid_size = (size, size)\n",
    "        grid_image = create_image_grid(images, grid_size)\n",
    "        # Save the grid image\n",
    "        filename = 'FukushimaEQ'\n",
    "        grid_image.save(f\"{filename}_grid.png\")\n",
    "    elif size >= 4:\n",
    "        rows = np.floor(np.sqrt(size))\n",
    "        cols = np.floor(np.sqrt(size))\n",
    "        if rows * cols < size:\n",
    "            cols += 1\n",
    "        grid_size = (int(rows), int(cols))\n",
    "        print(f\"Grid size: {grid_size[0]}x{grid_size[1]}\")\n",
    "        grid_image = create_image_grid(images, grid_size)\n",
    "    # Save the grid image\n",
    "    filename = 'FukushimaEQ'\n",
    "    grid_image.save(f\"{filename}_grid.png\")\n"
   ]
  },
  {
   "cell_type": "code",
   "execution_count": null,
   "metadata": {},
   "outputs": [],
   "source": []
  },
  {
   "cell_type": "code",
   "execution_count": null,
   "metadata": {},
   "outputs": [],
   "source": []
  }
 ],
 "metadata": {
  "kernelspec": {
   "display_name": "Python 3",
   "language": "python",
   "name": "python3"
  },
  "language_info": {
   "codemirror_mode": {
    "name": "ipython",
    "version": 3
   },
   "file_extension": ".py",
   "mimetype": "text/x-python",
   "name": "python",
   "nbconvert_exporter": "python",
   "pygments_lexer": "ipython3",
   "version": "3.11.3"
  }
 },
 "nbformat": 4,
 "nbformat_minor": 2
}
