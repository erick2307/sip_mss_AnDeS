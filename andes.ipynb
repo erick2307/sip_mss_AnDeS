{
 "cells": [
  {
   "cell_type": "code",
   "execution_count": 1,
   "metadata": {},
   "outputs": [],
   "source": [
    "import numpy as np\n",
    "import stumpy\n",
    "from datetime import datetime, timedelta\n",
    "from icecream import ic\n",
    "from tqdm import tqdm\n",
    "import arrow\n",
    "from dateutil import tz\n",
    "\n",
    "timezone = tz.gettz(\"Asia/Tokyo\")"
   ]
  },
  {
   "cell_type": "code",
   "execution_count": 2,
   "metadata": {},
   "outputs": [],
   "source": [
    "def read_database(start=2016, stop=2024):\n",
    "    db = {}\n",
    "    for year in tqdm(np.arange(start, stop + 1, 1), desc=\"Reading database\"):\n",
    "        y = np.load(f\"data/ntt_mss_{year}.npy\")\n",
    "        mids = np.load(f\"data/ntt_mss_{year}_areas.npy\")\n",
    "        db[year] = (y, mids)\n",
    "    return db"
   ]
  },
  {
   "cell_type": "code",
   "execution_count": 3,
   "metadata": {},
   "outputs": [],
   "source": [
    "def join_database_of_meshcode(db, meshcode):\n",
    "    for key in db.keys():\n",
    "        meshids = db[key][1]\n",
    "        try:\n",
    "            pos = np.where(meshids == meshcode)[0].item()\n",
    "        except:\n",
    "            print(f\"Meshcode {meshcode} not found in {key}\")\n",
    "            return None\n",
    "        if key == 2016:\n",
    "            data = db[key][0][:,pos]\n",
    "        else:\n",
    "            data = np.concatenate((data, db[key][0][:,pos]), axis=0)\n",
    "    return data"
   ]
  },
  {
   "cell_type": "code",
   "execution_count": 4,
   "metadata": {},
   "outputs": [],
   "source": [
    "def set_vars(cur):\n",
    "    target_year = cur.year\n",
    "    target_month = cur.month\n",
    "    target_day = cur.day\n",
    "    target_hour = cur.hour\n",
    "    return target_year, target_month, target_day, target_hour"
   ]
  },
  {
   "cell_type": "code",
   "execution_count": 5,
   "metadata": {},
   "outputs": [],
   "source": [
    "def get_date_one_month_ago(target_year, target_month, target_day, target_hour):\n",
    "    to_date = arrow.get(target_year, target_month, target_day, target_hour)\n",
    "    last_month = to_date.shift(months=-1)\n",
    "    return last_month.datetime"
   ]
  },
  {
   "cell_type": "code",
   "execution_count": 6,
   "metadata": {},
   "outputs": [],
   "source": [
    "def end_of_year_bool(year1,year2):\n",
    "    if year1 != year2:\n",
    "        return True\n",
    "    else:\n",
    "        return False"
   ]
  },
  {
   "cell_type": "code",
   "execution_count": 7,
   "metadata": {},
   "outputs": [],
   "source": [
    "def get_hours(start_year, start_month, start_day, start_hour, stop_year, stop_month, stop_day, stop_hour):\n",
    "    start = datetime(start_year, start_month, start_day, start_hour, 0, 0, 0, tzinfo=timezone)\n",
    "    stop = datetime(stop_year, stop_month, stop_day, stop_hour, 0, 0, 0, tzinfo=timezone)\n",
    "    delta = stop - start\n",
    "    return delta.days * 24 + delta.seconds // 3600\n",
    "\n",
    "\n",
    "def get_dateindex(dt, num_days):\n",
    "    index = sum(num_days[:dt.year-2016]) + get_hours(dt.year,1,1,0,dt.year,dt.month,dt.day,dt.hour)\n",
    "    return index\n",
    "\n",
    "\n",
    "def get_history_data(data, num_days, cur, last_month, eoy_bool, alpha=0):\n",
    "    if eoy_bool:\n",
    "        alpha = 1\n",
    "    for i, year in enumerate(np.arange(2016, last_month.year)):\n",
    "        start_index = get_dateindex(datetime(year,last_month.month,last_month.day,last_month.hour,0,0,0,timezone), num_days)\n",
    "        stop_index = get_dateindex(datetime(year+alpha,cur.month,cur.day,cur.hour,0,0,0,timezone), num_days)\n",
    "        if i == 0:    \n",
    "            history_data = data[start_index:stop_index]\n",
    "        else:\n",
    "            history_data = np.concatenate((history_data, data[start_index:stop_index]), axis=0)\n",
    "    return history_data"
   ]
  },
  {
   "cell_type": "code",
   "execution_count": 8,
   "metadata": {},
   "outputs": [],
   "source": [
    "def andes(data, num_days, cur, stream_point, meshcode):    \n",
    "    target_year, target_month, target_day, target_hour = set_vars(cur)\n",
    "    last_month = get_date_one_month_ago(target_year, target_month, target_day, target_hour)\n",
    "    eoy_bool = end_of_year_bool(target_year, last_month.year)\n",
    "    history_data = get_history_data(data, num_days, cur, last_month, eoy_bool)\n",
    "    # convert data to float64 and replace -1 with np.nan\n",
    "    history_data = np.where(history_data == -1, np.nan, history_data).astype(np.float64)\n",
    "    stream_point = np.where(stream_point == -1, np.nan, stream_point).astype(np.float64)\n",
    "    # calculate the left matrix profile\n",
    "    T = history_data\n",
    "    m = 3\n",
    "    stream = stumpy.stumpi(T, m, normalize=False, egress=False)\n",
    "    # update stream with new data\n",
    "    stream.update(stream_point)\n",
    "    # calculate the left MP\n",
    "    a = stream._left_P[m:]\n",
    "    # filter initial 'inf' values\n",
    "    af = a[np.isfinite(a)]\n",
    "    # calculate std of the left MP ==> Condition for anomaly detection\n",
    "    return stream._left_P[-1] > (af.mean() + 4 * af.std())"
   ]
  },
  {
   "cell_type": "markdown",
   "metadata": {},
   "source": [
    "## Load Database"
   ]
  },
  {
   "cell_type": "code",
   "execution_count": 9,
   "metadata": {},
   "outputs": [
    {
     "name": "stderr",
     "output_type": "stream",
     "text": [
      "Reading database: 100%|██████████| 9/9 [01:46<00:00, 11.81s/it]\n"
     ]
    }
   ],
   "source": [
    "# YOU MAY RUN THIS ONCE TO LOAD THE DATABASE\n",
    "db = read_database(start=2016, stop=2024)"
   ]
  },
  {
   "cell_type": "markdown",
   "metadata": {},
   "source": [
    "# RUN FROM HERE"
   ]
  },
  {
   "cell_type": "code",
   "execution_count": 10,
   "metadata": {},
   "outputs": [],
   "source": [
    "# INPUT CASES\n",
    "cur = datetime(2024,2,15,10,0,0,0,timezone) # Random non populated area\n",
    "meshcode = 564010771\n",
    "cur = datetime(2024,1,1,16,0,0,0,timezone) # Noto EQ\n",
    "meshcode = 563712214\n",
    "cur = datetime(2018,7,7,1,0,0,0,timezone) # Kurashiki Flood\n",
    "meshcode = 513375542\n",
    "cur = datetime(2022,3,16,23,0,0,0,timezone) # Fukushima EQ\n",
    "meshcode = 574007523\n",
    "cur = datetime(2019,10,12,16,0,0,0,timezone) # Koriyama Flood\n",
    "meshcode = 564003523\n",
    "cur = datetime(2024,7,8,0,0,0,0,timezone) # Wakayama Heavy Rain (Wakayama Sta., 513521831)\n",
    "meshcode = 513521831 "
   ]
  },
  {
   "cell_type": "code",
   "execution_count": 11,
   "metadata": {},
   "outputs": [],
   "source": [
    "# THESE ARE NECESSARY BY MESHCODE (OFFLINE)\n",
    "# get all years data together for the target meschode\n",
    "data = join_database_of_meshcode(db, meshcode)\n",
    "# create a list with shape of database for each year, number of hours per year\n",
    "num_days = [db[key][0].shape[0] for key in db.keys()]"
   ]
  },
  {
   "cell_type": "markdown",
   "metadata": {},
   "source": [
    "### Algorithm 1 - One Point data"
   ]
  },
  {
   "cell_type": "code",
   "execution_count": 12,
   "metadata": {},
   "outputs": [
    {
     "data": {
      "text/plain": [
       "np.False_"
      ]
     },
     "execution_count": 12,
     "metadata": {},
     "output_type": "execute_result"
    }
   ],
   "source": [
    "# THIS IS SUPPOSED TO COME ONLINE - record at current time - here we take it from the database (ONLINE)\n",
    "cur_index = get_dateindex(cur, num_days)\n",
    "stream_point = data[cur_index]\n",
    "andes(data, num_days, cur, stream_point, meshcode)"
   ]
  },
  {
   "cell_type": "markdown",
   "metadata": {},
   "source": [
    "### Algorithm 2 - Multiple point data"
   ]
  },
  {
   "cell_type": "code",
   "execution_count": 13,
   "metadata": {},
   "outputs": [],
   "source": [
    "# TEST CASE FOR MULTIPLE DAYS\n",
    "# create a list of dates for the last 10 hours\n",
    "xhours = 4 * 24\n",
    "dates_before = [cur - timedelta(hours=i) for i in range(xhours,0,-1)]\n",
    "dates_after = [cur + timedelta(hours=i) for i in range(xhours)]\n",
    "dates = dates_before + dates_after\n",
    "img = []\n",
    "for date in dates:\n",
    "    # this is input data\n",
    "    cur_index = get_dateindex(date, num_days)\n",
    "    stream_point = data[cur_index]\n",
    "    meschode = meshcode\n",
    "    # online anomaly detection\n",
    "    anomaly = andes(data, num_days, date, stream_point, meshcode)\n",
    "    img.append(anomaly)\n",
    "    if anomaly:\n",
    "        ic(date)"
   ]
  },
  {
   "cell_type": "code",
   "execution_count": 14,
   "metadata": {},
   "outputs": [],
   "source": [
    "arr = np.array(img).astype(int)\n",
    "# add to arr cur.hours points of np.nan at the beginning\n",
    "arr = np.concatenate((np.full(dates[0].hour, np.nan), arr))\n",
    "arr = np.concatenate((arr,np.full((23 - dates[-1].hour), np.nan)))"
   ]
  },
  {
   "cell_type": "code",
   "execution_count": 15,
   "metadata": {},
   "outputs": [
    {
     "data": {
      "image/png": "[encoded data removed]",
      "text/plain": [
       "<Figure size 640x480 with 1 Axes>"
      ]
     },
     "metadata": {},
     "output_type": "display_data"
    }
   ],
   "source": [
    "import matplotlib.pyplot as plt\n",
    "\n",
    "plt.imshow(arr.reshape(-1,24), cmap='nipy_spectral_r')\n",
    "days = set([dates[i].date() for i in range(len(dates))])\n",
    "# set up y ticks labels\n",
    "plt.yticks(np.arange(0,len(days)), [f\"{i}\" for i in sorted(days)])\n",
    "plt.xticks(np.arange(0,24), [f\"{i:02d}\" for i in np.arange(0,24)], rotation=45);\n",
    "# create vertical lines at 0.5 of each hour\n",
    "for i in range(1,24):\n",
    "    plt.axvline(i-0.5, color='black', linewidth=0.3)\n",
    "# create horizontal lines at 0.5 of each hour\n",
    "for i in range(1,len(days)):\n",
    "    plt.hlines(i-0.5, xmin=-0.5,xmax=23.5,color='black', linewidth=0.3)\n",
    "plt.xlabel(\"Hour Frame of the day (e.g. 08 means 08:00 to 08:59)\")\n",
    "plt.savefig(\"andes.png\", dpi=300)"
   ]
  },
  {
   "cell_type": "code",
   "execution_count": null,
   "metadata": {},
   "outputs": [],
   "source": []
  }
 ],
 "metadata": {
  "kernelspec": {
   "display_name": "Python 3",
   "language": "python",
   "name": "python3"
  },
  "language_info": {
   "codemirror_mode": {
    "name": "ipython",
    "version": 3
   },
   "file_extension": ".py",
   "mimetype": "text/x-python",
   "name": "python",
   "nbconvert_exporter": "python",
   "pygments_lexer": "ipython3",
   "version": "3.11.9"
  }
 },
 "nbformat": 4,
 "nbformat_minor": 2
}
